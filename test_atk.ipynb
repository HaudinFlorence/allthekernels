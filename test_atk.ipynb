{
 "cells": [
  {
   "cell_type": "code",
   "execution_count": 3,
   "id": "91db32cc-d897-4d2c-b66b-0fe720f3f148",
   "metadata": {},
   "outputs": [
    {
     "name": "stdout",
     "output_type": "stream",
     "text": [
      "i: 0\n",
      "i: 1\n",
      "i: 2\n",
      "i: 3\n",
      "i: 4\n",
      "i: 5\n",
      "i: 6\n",
      "i: 7\n",
      "i: 8\n",
      "i: 9\n"
     ]
    }
   ],
   "source": [
    ">xpython\n",
    "import time\n",
    "for i in range(5):\n",
    "    time.sleep(1)\n",
    "    print('i:',i)\n",
    "  "
   ]
  },
  {
   "cell_type": "code",
   "execution_count": 1,
   "id": "2b0a0592-62f4-4ac0-a91f-7b1e8c3689a6",
   "metadata": {},
   "outputs": [
    {
     "name": "stdout",
     "output_type": "stream",
     "text": [
      "Hello world !\n"
     ]
    }
   ],
   "source": [
    ">python3\n",
    "print('Hello world !')"
   ]
  },
  {
   "cell_type": "code",
   "execution_count": null,
   "id": "ae08461d-e2c5-463c-8451-770bacce6442",
   "metadata": {},
   "outputs": [],
   "source": [
    "\n"
   ]
<<<<<<< HEAD
=======
  },
  {
   "cell_type": "code",
   "execution_count": null,
   "id": "61771bc9-1361-4347-b27c-be7f24837bfc",
   "metadata": {},
   "outputs": [],
   "source": [
    ">python3\n",
    "import time\n",
    "for i in range(10):\n",
    "    time.sleep(0.25)\n",
    "    print('i:',i)"
   ]
>>>>>>> 4678cec (Wait the end of the execution of a cell before starting the execution of the next one.)
  }
 ],
 "metadata": {
  "kernelspec": {
   "display_name": "All the Kernels",
   "language": "",
   "name": "atk"
  },
  "language_info": {
   "mimetype": "text/plain",
   "name": "all-of-them"
  }
 },
 "nbformat": 4,
 "nbformat_minor": 5
}
