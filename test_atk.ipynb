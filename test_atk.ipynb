{
 "cells": [
  {
   "cell_type": "code",
   "execution_count": 1,
   "id": "3bcf7c39-f01d-4c23-9c18-599557af8ed6",
   "metadata": {},
   "outputs": [
    {
     "name": "stdout",
     "output_type": "stream",
     "text": [
      "hello world\n"
     ]
    }
   ],
   "source": [
    ">python3\n",
    "print('hello world')"
   ]
  },
  {
   "cell_type": "code",
   "execution_count": null,
   "id": "db7ebd90-4c02-4718-8356-9acb9ae03d65",
   "metadata": {},
   "outputs": [],
   "source": [
    ">xpython-raw\n",
    "i=4\n",
    "i"
   ]
  },
  {
   "cell_type": "code",
   "execution_count": null,
   "id": "29e3c468-e54d-4ac5-b441-7780372560ce",
   "metadata": {},
   "outputs": [],
   "source": [
    ">xcpp17\n",
    "// Your First C++ Program\n",
    "\n",
    "#include <iostream>\n",
    "\n",
    "int main() {\n",
    "    std::cout << \"Hello World!\";\n",
    "    return 0;\n",
    "}"
   ]
  }
 ],
 "metadata": {
  "kernelspec": {
   "display_name": "All the Kernels",
   "language": "",
   "name": "atk"
  },
  "language_info": {
   "mimetype": "text/plain",
   "name": "all-of-them"
  }
 },
 "nbformat": 4,
 "nbformat_minor": 5
}
