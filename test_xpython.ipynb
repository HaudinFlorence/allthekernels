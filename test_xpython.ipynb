{
 "cells": [
  {
   "cell_type": "code",
   "execution_count": null,
   "id": "7f149ac6-eb24-47fd-b9f3-8c4686777a26",
   "metadata": {},
   "outputs": [],
   "source": [
    ">xpython-raw\n",
    "i=4\n",
    "i"
   ]
  },
  {
   "cell_type": "code",
   "execution_count": null,
   "id": "01cfcf5c-3c63-4436-80ea-f783b4a4df14",
   "metadata": {},
   "outputs": [],
   "source": [
    ">xpython-raw\n",
    "i=4\n",
    "i"
   ]
  },
  {
   "cell_type": "code",
   "execution_count": null,
   "id": "b6b026f2-353a-4943-8305-d253604d908f",
   "metadata": {},
   "outputs": [],
   "source": [
    ">python3\n",
    "print('Hello world!')"
   ]
  },
  {
   "cell_type": "code",
   "execution_count": null,
   "id": "7042b3c6-fa16-4f80-b6ed-677a398ec1fc",
   "metadata": {},
   "outputs": [],
   "source": []
  }
 ],
 "metadata": {
  "kernelspec": {
   "display_name": "All the Kernels",
   "language": "",
   "name": "atk"
  },
  "language_info": {
   "mimetype": "text/plain",
   "name": "all-of-them"
  }
 },
 "nbformat": 4,
 "nbformat_minor": 5
}
